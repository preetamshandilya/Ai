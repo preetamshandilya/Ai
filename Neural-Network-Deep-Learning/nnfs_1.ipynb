{
 "cells": [
  {
   "cell_type": "markdown",
   "id": "0b3467f5",
   "metadata": {},
   "source": [
    "# *Single neuron with multiple inputs*"
   ]
  },
  {
   "cell_type": "code",
   "execution_count": 2,
   "id": "f3fdacb9",
   "metadata": {},
   "outputs": [
    {
     "name": "stdout",
     "output_type": "stream",
     "text": [
      "35.7\n"
     ]
    }
   ],
   "source": [
    "inputs = [1.2,5.1,2.1]\n",
    "weights = [3.1,2.1,8.7]\n",
    "bias = 3\n",
    "output = inputs[0]*weights[0] + inputs[1]*weights[1]  + inputs[2]*weights[2] + bias\n",
    "\n",
    "print(output)"
   ]
  },
  {
   "cell_type": "markdown",
   "id": "1d785fb8",
   "metadata": {},
   "source": [
    "# *Calculating for layer of neuron*"
   ]
  },
  {
   "cell_type": "code",
   "execution_count": 6,
   "id": "df89024f",
   "metadata": {},
   "outputs": [
    {
     "name": "stdout",
     "output_type": "stream",
     "text": [
      "[4.8, 1.21, 2.385]\n"
     ]
    }
   ],
   "source": [
    "inputs = [1 , 2 , 3 , 2.5]\n",
    "weights1 = [0.2,0.8,-0.5,1.0]\n",
    "weights2 = [0.5, -0.91, 0.26, -0.5]\n",
    "weights3 = [-0.26, -0.27, 0.17, 0.87]\n",
    "bias1 = 2\n",
    "bias2 = 3\n",
    "bias3 = 0.5\n",
    "\n",
    "outputs = [inputs[0]*weights1[0] + inputs[1]*weights1[1]  + inputs[2]*weights1[2] + inputs[3]*weights1[3] + bias1\n",
    "           ,inputs[0]*weights2[0] + inputs[1]*weights2[1]   + inputs[2]*weights2[2] + inputs[3]*weights2[3] + bias2\n",
    "           ,inputs[0]*weights3[0] + inputs[1]*weights3[1]  +  inputs[2]*weights3[2] + inputs[3]*weights3[3] + bias3 ]\n",
    "\n",
    "print(outputs)"
   ]
  },
  {
   "cell_type": "code",
   "execution_count": 16,
   "id": "0d6b3354",
   "metadata": {},
   "outputs": [
    {
     "name": "stdout",
     "output_type": "stream",
     "text": [
      "[4.8, 1.21, 2.385]\n"
     ]
    }
   ],
   "source": [
    "inputs =  [1 , 2 , 3 , 2.5]\n",
    "\n",
    "weights = [[0.2,0.8,-0.5,1.0] ,[0.5, -0.91, 0.26, -0.5],[-0.26, -0.27, 0.17, 0.87]]\n",
    "biases = [2,3,0.5]\n",
    "\n",
    "layer_output = []\n",
    "for neuron_weight , bias in zip(weights , biases):\n",
    "    x1 = 0\n",
    "    for single_input,weight in zip(inputs , neuron_weight):\n",
    "        x1 += single_input*weight\n",
    "    x1 += bias\n",
    "    layer_output.append(x1)\n",
    "    \n",
    "print(layer_output)"
   ]
  },
  {
   "cell_type": "code",
   "execution_count": 19,
   "id": "51c8d6df",
   "metadata": {},
   "outputs": [
    {
     "name": "stdout",
     "output_type": "stream",
     "text": [
      "[4.8   1.21  2.385]\n"
     ]
    }
   ],
   "source": [
    "import numpy as np\n",
    "inputs =  [1 , 2 , 3 , 2.5]\n",
    "\n",
    "weights = [[0.2,0.8,-0.5,1.0] \n",
    "           ,[0.5, -0.91, 0.26, -0.5]\n",
    "           ,[-0.26, -0.27, 0.17, 0.87]]\n",
    "biases = [2,3,0.5]\n",
    "\n",
    "output = np.dot(inputs , np.transpose(weights)) + biases\n",
    "print(output)"
   ]
  },
  {
   "cell_type": "code",
   "execution_count": 26,
   "id": "2e2354f9",
   "metadata": {},
   "outputs": [
    {
     "data": {
      "text/plain": [
       "(3,)"
      ]
     },
     "execution_count": 26,
     "metadata": {},
     "output_type": "execute_result"
    }
   ],
   "source": [
    "np.array(output).shape\n"
   ]
  },
  {
   "cell_type": "code",
   "execution_count": null,
   "id": "3013a025",
   "metadata": {},
   "outputs": [],
   "source": []
  }
 ],
 "metadata": {
  "kernelspec": {
   "display_name": "Python 3 (ipykernel)",
   "language": "python",
   "name": "python3"
  },
  "language_info": {
   "codemirror_mode": {
    "name": "ipython",
    "version": 3
   },
   "file_extension": ".py",
   "mimetype": "text/x-python",
   "name": "python",
   "nbconvert_exporter": "python",
   "pygments_lexer": "ipython3",
   "version": "3.11.5"
  }
 },
 "nbformat": 4,
 "nbformat_minor": 5
}
