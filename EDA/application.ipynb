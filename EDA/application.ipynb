{
 "cells": [
  {
   "cell_type": "code",
   "execution_count": 35,
   "metadata": {},
   "outputs": [],
   "source": [
    "import numpy as np"
   ]
  },
  {
   "cell_type": "markdown",
   "metadata": {},
   "source": [
    "claculate determinant"
   ]
  },
  {
   "cell_type": "code",
   "execution_count": 30,
   "metadata": {},
   "outputs": [
    {
     "data": {
      "text/plain": [
       "-3"
      ]
     },
     "execution_count": 30,
     "metadata": {},
     "output_type": "execute_result"
    }
   ],
   "source": [
    "class Determinant:\n",
    "    def get_minor(self, matrix, i, j):\n",
    "        return [row[:j] + row[j+1:] for row in (matrix[:i] + matrix[i+1:])]\n",
    "\n",
    "    def calculate_determinant(self, matrix):\n",
    "        # Base case for a 2x2 matrix\n",
    "        if len(matrix) == 2:\n",
    "            return matrix[0][0] * matrix[1][1] - matrix[0][1] * matrix[1][0]\n",
    "        \n",
    "        \n",
    "        det = 0\n",
    "        for c in range(len(matrix)):\n",
    "            det += ((-1) ** c) * matrix[0][c] * self.calculate_determinant(self.get_minor(matrix, 0, c))\n",
    "        return det\n",
    "        \n",
    "det = Determinant()\n",
    "matrix = [[2,3],\n",
    "          [5,6,]]\n",
    "det.calculate_determinant(matrix)"
   ]
  },
  {
   "cell_type": "code",
   "execution_count": 33,
   "metadata": {},
   "outputs": [
    {
     "data": {
      "text/plain": [
       "\"can't calculate inverse of a singular matrix!\""
      ]
     },
     "execution_count": 33,
     "metadata": {},
     "output_type": "execute_result"
    }
   ],
   "source": [
    "def gauss_jordan(matrix):\n",
    "    \n",
    "    n  = len(matrix)\n",
    "    \n",
    "    if det.calculate_determinant(matrix) == 0:\n",
    "        return \"can't calculate inverse of a singular matrix!\"\n",
    "    \n",
    "    aug_matrix = np.hstack((matrix , np.identity(n))) # we can use np.eye(n) to create identity matrix\n",
    "    \n",
    "    for i in range(n):\n",
    "        diag_element = aug_matrix[i][i]\n",
    "        \n",
    "        aug_matrix[i] = aug_matrix[i] / diag_element # making diagonal element = 1\n",
    "        \n",
    "        for j in range(n): # make other element of that column = 0\n",
    "            if i!=j:\n",
    "                factor = aug_matrix[j][i]\n",
    "                aug_matrix[j] = aug_matrix[j] - factor*aug_matrix[i]\n",
    "                \n",
    "    inverse_matrix = aug_matrix[: , n:]\n",
    "    return inverse_matrix\n",
    "\n",
    "matrix = np.array([[2,1],[4,2]],dtype=float)\n",
    "gauss_jordan(matrix)"
   ]
  },
  {
   "cell_type": "code",
   "execution_count": 3,
   "metadata": {},
   "outputs": [
    {
     "data": {
      "text/plain": [
       "array([[ 7., -3.],\n",
       "       [-2.,  1.]])"
      ]
     },
     "execution_count": 3,
     "metadata": {},
     "output_type": "execute_result"
    }
   ],
   "source": [
    "np.linalg.inv(matrix) # numpy in-built function"
   ]
  },
  {
   "cell_type": "code",
   "execution_count": 36,
   "metadata": {},
   "outputs": [
    {
     "name": "stdout",
     "output_type": "stream",
     "text": [
      "[[[[0.98441937 0.40438891 0.52195827 0.66977095]\n",
      "   [0.17493456 0.3428051  0.39105091 0.28027807]]\n",
      "\n",
      "  [[0.03034944 0.98653384 0.42507061 0.68859697]\n",
      "   [0.48238038 0.7220193  0.96931148 0.82415704]]\n",
      "\n",
      "  [[0.14601972 0.6616888  0.18882224 0.43273744]\n",
      "   [0.12288774 0.59405901 0.16792645 0.21833305]]]\n",
      "\n",
      "\n",
      " [[[0.26907835 0.89947576 0.38301841 0.86272375]\n",
      "   [0.16330275 0.40006395 0.57288856 0.6611778 ]]\n",
      "\n",
      "  [[0.63569146 0.77703658 0.1594006  0.46749052]\n",
      "   [0.5193908  0.35721148 0.43085846 0.13953637]]\n",
      "\n",
      "  [[0.58253115 0.87405124 0.23032435 0.15351349]\n",
      "   [0.89535942 0.88318082 0.00431131 0.91565465]]]\n",
      "\n",
      "\n",
      " [[[0.35128583 0.00237243 0.50878668 0.72700661]\n",
      "   [0.71505238 0.36772442 0.27067742 0.82776077]]\n",
      "\n",
      "  [[0.46156829 0.05668836 0.4460453  0.04484068]\n",
      "   [0.33929661 0.4455657  0.97235361 0.38655363]]\n",
      "\n",
      "  [[0.65839063 0.46044043 0.09499766 0.54471818]\n",
      "   [0.2827353  0.14094666 0.87471216 0.23440565]]]\n",
      "\n",
      "\n",
      " [[[0.00436622 0.54411177 0.11156104 0.48004458]\n",
      "   [0.94343615 0.5920679  0.60349074 0.39361924]]\n",
      "\n",
      "  [[0.50550794 0.23685482 0.55030418 0.69240476]\n",
      "   [0.02581589 0.67661028 0.08248138 0.98350975]]\n",
      "\n",
      "  [[0.88395419 0.77389723 0.43667862 0.99085771]\n",
      "   [0.36464541 0.13321488 0.78511165 0.92897551]]]]\n"
     ]
    },
    {
     "data": {
      "text/plain": [
       "4"
      ]
     },
     "execution_count": 36,
     "metadata": {},
     "output_type": "execute_result"
    }
   ],
   "source": [
    "vector = np.random.rand(4,3,2,4)\n",
    "\n",
    "print(vector)\n",
    "vector.ndim\n"
   ]
  },
  {
   "cell_type": "code",
   "execution_count": 37,
   "metadata": {},
   "outputs": [
    {
     "data": {
      "text/plain": [
       "(1, 4, 3, 2, 4)"
      ]
     },
     "execution_count": 37,
     "metadata": {},
     "output_type": "execute_result"
    }
   ],
   "source": [
    "q = vector[np.newaxis,:,:]\n",
    "q.shape"
   ]
  },
  {
   "cell_type": "code",
   "execution_count": 34,
   "metadata": {},
   "outputs": [
    {
     "name": "stdout",
     "output_type": "stream",
     "text": [
      "0.0\n"
     ]
    }
   ],
   "source": [
    "m = np.arange(2,11).reshape(3,3)\n",
    "\n",
    "det = np.linalg.det(m)\n",
    "\n",
    "print(det)"
   ]
  },
  {
   "cell_type": "code",
   "execution_count": null,
   "metadata": {},
   "outputs": [],
   "source": []
  },
  {
   "cell_type": "code",
   "execution_count": null,
   "metadata": {},
   "outputs": [],
   "source": []
  }
 ],
 "metadata": {
  "kernelspec": {
   "display_name": "base",
   "language": "python",
   "name": "python3"
  },
  "language_info": {
   "codemirror_mode": {
    "name": "ipython",
    "version": 3
   },
   "file_extension": ".py",
   "mimetype": "text/x-python",
   "name": "python",
   "nbconvert_exporter": "python",
   "pygments_lexer": "ipython3",
   "version": "3.11.5"
  }
 },
 "nbformat": 4,
 "nbformat_minor": 2
}
