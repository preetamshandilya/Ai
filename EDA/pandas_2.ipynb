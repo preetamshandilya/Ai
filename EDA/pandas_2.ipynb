{
 "cells": [
  {
   "cell_type": "markdown",
   "metadata": {},
   "source": [
    "# Building dataset"
   ]
  },
  {
   "cell_type": "code",
   "execution_count": 1,
   "metadata": {},
   "outputs": [],
   "source": [
    "import pandas as pd\n",
    "import Quandl"
   ]
  },
  {
   "cell_type": "code",
   "execution_count": 37,
   "metadata": {},
   "outputs": [
    {
     "data": {
      "text/html": [
       "<div>\n",
       "<style scoped>\n",
       "    .dataframe tbody tr th:only-of-type {\n",
       "        vertical-align: middle;\n",
       "    }\n",
       "\n",
       "    .dataframe tbody tr th {\n",
       "        vertical-align: top;\n",
       "    }\n",
       "\n",
       "    .dataframe thead th {\n",
       "        text-align: right;\n",
       "    }\n",
       "</style>\n",
       "<table border=\"1\" class=\"dataframe\">\n",
       "  <thead>\n",
       "    <tr style=\"text-align: right;\">\n",
       "      <th></th>\n",
       "      <th>NSA Value</th>\n",
       "      <th>SA Value</th>\n",
       "    </tr>\n",
       "    <tr>\n",
       "      <th>Date</th>\n",
       "      <th></th>\n",
       "      <th></th>\n",
       "    </tr>\n",
       "  </thead>\n",
       "  <tbody>\n",
       "    <tr>\n",
       "      <th>1975-01-31</th>\n",
       "      <td>34.427647</td>\n",
       "      <td>34.604936</td>\n",
       "    </tr>\n",
       "    <tr>\n",
       "      <th>1975-02-28</th>\n",
       "      <td>34.898074</td>\n",
       "      <td>35.035870</td>\n",
       "    </tr>\n",
       "    <tr>\n",
       "      <th>1975-03-31</th>\n",
       "      <td>35.384843</td>\n",
       "      <td>35.407964</td>\n",
       "    </tr>\n",
       "    <tr>\n",
       "      <th>1975-04-30</th>\n",
       "      <td>35.913989</td>\n",
       "      <td>35.784216</td>\n",
       "    </tr>\n",
       "    <tr>\n",
       "      <th>1975-05-31</th>\n",
       "      <td>36.534766</td>\n",
       "      <td>36.228856</td>\n",
       "    </tr>\n",
       "  </tbody>\n",
       "</table>\n",
       "</div>"
      ],
      "text/plain": [
       "            NSA Value   SA Value\n",
       "Date                            \n",
       "1975-01-31  34.427647  34.604936\n",
       "1975-02-28  34.898074  35.035870\n",
       "1975-03-31  35.384843  35.407964\n",
       "1975-04-30  35.913989  35.784216\n",
       "1975-05-31  36.534766  36.228856"
      ]
     },
     "execution_count": 37,
     "metadata": {},
     "output_type": "execute_result"
    }
   ],
   "source": [
    "# api_key = \"zbuPWr3CoQXjNje1Z2qX\"\n",
    "\n",
    "# df = Quandl.get(\"FMAC/HPI_AK\",authtoken = api_key)\n",
    "\n",
    "# df.head()\n"
   ]
  },
  {
   "cell_type": "code",
   "execution_count": 38,
   "metadata": {},
   "outputs": [],
   "source": [
    "# df.drop(columns='NSA Value' ,inplace=True)\n",
    "# df.rename(columns={\"SA Value\":\"AK\"},inplace=True)\n",
    "# df.head()\n",
    "# df.to_csv(\"housing_price.csv\")\n",
    "# df.size\n",
    "# df.columns.size"
   ]
  },
  {
   "cell_type": "code",
   "execution_count": 39,
   "metadata": {},
   "outputs": [],
   "source": [
    "# states = pd.read_html('https://www.yourdictionary.com/articles/state-abbreviations')\n",
    "\n",
    "# # print(states) -> list of data frames\n",
    "# # print(states[0]) -> single data frame\n",
    "# # print(states[0][1]) -> single column of that dataframe\n",
    "# main_df = pd.DataFrame()\n",
    "# for abbv in states[0][1][1:]:\n",
    "#     query = \"FMAC/HPI_\"+str(abbv)\n",
    "#     df = Quandl.get(query , authtoken = api_key)\n",
    "    \n",
    "#     if main_df.empty:\n",
    "#         main_df = df\n",
    "#     else:\n",
    "#         main_df = main_df.join(df)\n",
    "        \n",
    "# print(main_df.head())\n",
    "        \n",
    "    "
   ]
  },
  {
   "cell_type": "markdown",
   "metadata": {},
   "source": [
    "Demo on concatination"
   ]
  },
  {
   "cell_type": "code",
   "execution_count": 4,
   "metadata": {},
   "outputs": [
    {
     "name": "stdout",
     "output_type": "stream",
     "text": [
      "      HPI  Int_rate  US_GDP_Thousands\n",
      "2001   80         2                50\n",
      "2002   85         3                55\n",
      "2003   88         2                65\n",
      "2004   85         2                55\n",
      "2005   80         2                50\n",
      "2006   85         3                55\n",
      "2007   88         2                65\n",
      "2008   85         2                55\n"
     ]
    }
   ],
   "source": [
    "df1 = pd.DataFrame({'HPI':[80,85,88,85],\n",
    "                    'Int_rate':[2, 3, 2, 2],\n",
    "                    'US_GDP_Thousands':[50, 55, 65, 55]},\n",
    "                   index = [2001, 2002, 2003, 2004])\n",
    "\n",
    "df2 = pd.DataFrame({'HPI':[80,85,88,85],\n",
    "                    'Int_rate':[2, 3, 2, 2],\n",
    "                    'US_GDP_Thousands':[50, 55, 65, 55]},\n",
    "                   index = [2005, 2006, 2007, 2008])\n",
    "\n",
    "df3 = pd.DataFrame({'HPI':[80,85,88,85],\n",
    "                    'Int_rate':[2, 3, 2, 2],\n",
    "                    'Low_tier_HPI':[50, 52, 50, 53]},\n",
    "                   index = [2001, 2002, 2003, 2004])\n",
    "\n",
    "\n",
    "concat = pd.concat([df1,df2])\n",
    "print(concat)"
   ]
  },
  {
   "cell_type": "code",
   "execution_count": 5,
   "metadata": {},
   "outputs": [],
   "source": [
    "# df4 = df1.append(df2)\n",
    "# print(df4) -> depricated"
   ]
  },
  {
   "cell_type": "code",
   "execution_count": 6,
   "metadata": {},
   "outputs": [],
   "source": [
    "df1 = pd.DataFrame({'HPI':[80,85,88,85],\n",
    "                    'Int_rate':[2, 3, 2, 2],\n",
    "                    'US_GDP_Thousands':[50, 55, 65, 55]},\n",
    "                   index = [2001, 2002, 2003, 2004])\n",
    "\n",
    "df2 = pd.DataFrame({'HPI':[80,85,88,85],\n",
    "                    'Int_rate':[2, 3, 2, 2],\n",
    "                    'US_GDP_Thousands':[50, 55, 65, 55]},\n",
    "                   index = [2005, 2006, 2007, 2008])\n",
    "\n",
    "df3 = pd.DataFrame({'HPI':[80,85,88,85],\n",
    "                    'Unemployment':[7, 8, 9, 6],\n",
    "                    'Low_tier_HPI':[50, 52, 50, 53]},\n",
    "                   index = [2001, 2002, 2003, 2004])"
   ]
  },
  {
   "cell_type": "code",
   "execution_count": 11,
   "metadata": {},
   "outputs": [
    {
     "name": "stdout",
     "output_type": "stream",
     "text": [
      "   HPI  Int_rate  US_GDP_Thousands\n",
      "0   80         2                50\n",
      "1   85         3                55\n",
      "2   88         2                65\n",
      "3   85         2                55\n"
     ]
    }
   ],
   "source": [
    "print(pd.merge(df1 , df2 , on=['HPI' , 'Int_rate','US_GDP_Thousands'])) #merging all three cols"
   ]
  },
  {
   "cell_type": "code",
   "execution_count": 20,
   "metadata": {},
   "outputs": [],
   "source": [
    "df1.set_index('HPI',inplace=True)\n",
    "df3.set_index(\"HPI\",inplace=True)\n",
    "# print(df1.head())\n",
    "# df3.set_index('HPI')"
   ]
  },
  {
   "cell_type": "code",
   "execution_count": 24,
   "metadata": {},
   "outputs": [
    {
     "name": "stdout",
     "output_type": "stream",
     "text": [
      "     Int_rate  US_GDP_Thousands  Unemployment  Low_tier_HPI\n",
      "HPI                                                        \n",
      "80          2                50             7            50\n",
      "85          3                55             8            52\n",
      "85          3                55             6            53\n",
      "85          2                55             8            52\n",
      "85          2                55             6            53\n",
      "88          2                65             9            50\n"
     ]
    }
   ],
   "source": [
    "joined = df1.join(df3)\n",
    "print(joined) # join by default occur based on index"
   ]
  },
  {
   "cell_type": "code",
   "execution_count": 33,
   "metadata": {},
   "outputs": [
    {
     "name": "stdout",
     "output_type": "stream",
     "text": [
      "   Year  Int_rate  US_GDP_Thousands  Unemployment  Low_tier_HPI\n",
      "0  2001         2                50           7.0          50.0\n",
      "1  2002         3                55           NaN           NaN\n",
      "2  2003         2                65           8.0          52.0\n",
      "3  2004         2                55           9.0          50.0\n"
     ]
    }
   ],
   "source": [
    "df1 = pd.DataFrame({'Year':[2001, 2002, 2003, 2004],\n",
    "                    'Int_rate':[2, 3, 2, 2],\n",
    "                    'US_GDP_Thousands':[50, 55, 65, 55]})\n",
    "\n",
    "\n",
    "df3 = pd.DataFrame({'Year':[2001, 2003, 2004, 2005],\n",
    "                    'Unemployment':[7, 8, 9, 6],\n",
    "                    'Low_tier_HPI':[50, 52, 50, 53]})\n",
    "\n",
    "merged = pd.merge(df1 , df3 , on='Year',how='left')\n",
    "# merged.set_index('Year' , inplace = True)\n",
    "print(merged)"
   ]
  },
  {
   "cell_type": "markdown",
   "metadata": {},
   "source": []
  },
  {
   "cell_type": "code",
   "execution_count": null,
   "metadata": {},
   "outputs": [],
   "source": []
  }
 ],
 "metadata": {
  "kernelspec": {
   "display_name": "base",
   "language": "python",
   "name": "python3"
  },
  "language_info": {
   "codemirror_mode": {
    "name": "ipython",
    "version": 3
   },
   "file_extension": ".py",
   "mimetype": "text/x-python",
   "name": "python",
   "nbconvert_exporter": "python",
   "pygments_lexer": "ipython3",
   "version": "3.11.5"
  }
 },
 "nbformat": 4,
 "nbformat_minor": 2
}
