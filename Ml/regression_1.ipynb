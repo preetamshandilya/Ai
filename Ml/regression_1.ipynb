{
 "cells": [
  {
   "cell_type": "markdown",
   "metadata": {},
   "source": [
    "Imports and data preparation"
   ]
  },
  {
   "cell_type": "code",
   "execution_count": 12,
   "metadata": {},
   "outputs": [
    {
     "name": "stdout",
     "output_type": "stream",
     "text": [
      "45\n"
     ]
    }
   ],
   "source": [
    "%matplotlib inline\n",
    "import pandas as pd\n",
    "import quandl , math ,datetime\n",
    "import numpy as np\n",
    "from sklearn import preprocessing , model_selection , svm\n",
    "from sklearn.model_selection import train_test_split\n",
    "from sklearn.linear_model import LinearRegression\n",
    "import matplotlib.pyplot as plt\n",
    "from matplotlib import style\n",
    "style.use('ggplot')\n",
    "\n",
    "import pickle\n",
    "\n",
    "\n",
    "df = pd.read_csv(\"/home/balerion/Desktop/Ai/GOOGL.csv\")\n",
    "\n",
    "# print(df.head())\n",
    "\n",
    "df = df[[\"Open\" , \"High\" , \"Low\" , \"Close\" , \"Volume\"]]\n",
    "\n",
    "# df[\"HL_PCT\"] = (df[\"High\"] - df[\"Low\"]) / df[\"Low\"] * 100\n",
    "\n",
    "df[\"HC_PCT\"] = (df[\"High\"] - df[\"Close\"]) / df[\"Close\"] * 100.0\n",
    "\n",
    "df[\"PCT_change\"] = (df[\"Close\"] - df[\"Open\"]) / df[\"Open\"] * 100.0\n",
    "\n",
    "df = df[[\"Close\" , \"HC_PCT\" , \"PCT_change\" , \"Volume\"]]\n",
    "\n",
    "# print(df.head())\n",
    "\n",
    "\n",
    "forecast_col = \"Close\"\n",
    "\n",
    "df.fillna(-99999 , inplace=True) # to get rid of nill data\n",
    "\n",
    "forecast_out = int(math.ceil(0.01*len(df))) # for every 40 odd days\n",
    "\n",
    "print(forecast_out)\n",
    "\n",
    "df[\"label\"] = df[forecast_col].shift(-forecast_out)\n",
    "\n",
    "# print(df.head())\n",
    "\n"
   ]
  },
  {
   "cell_type": "markdown",
   "metadata": {},
   "source": [
    "Prprocessing and Scaling"
   ]
  },
  {
   "cell_type": "code",
   "execution_count": 13,
   "metadata": {},
   "outputs": [
    {
     "name": "stdout",
     "output_type": "stream",
     "text": [
      "4386 4386\n"
     ]
    }
   ],
   "source": [
    "x = np.array(df.drop(columns=[\"label\"]))# x = np.array(df.drop(columns = [\"label\"])) -> contains features\n",
    "x = preprocessing.scale(x)\n",
    "x = x[:-forecast_out]\n",
    "\n",
    "x_lately = x[-forecast_out:]\n",
    "\n",
    "# standardization of data x' = x - mean / standard deviation\n",
    "# Standardized data refers to data that has been transformed to have a mean of 0 and a standard deviation of 1\n",
    "# x = x[:-forecast_out+1]\n",
    "\n",
    "df.dropna(inplace=True)\n",
    "y = np.array(df[\"label\"])\n",
    "# y = np.array(df[\"label\"])\n",
    "\n",
    "print(len(x) , len(y))\n",
    "\n"
   ]
  },
  {
   "cell_type": "markdown",
   "metadata": {},
   "source": [
    "Why Scaling is important ?\n"
   ]
  },
  {
   "cell_type": "code",
   "execution_count": 14,
   "metadata": {},
   "outputs": [],
   "source": [
    "# import numpy as np\n",
    "# import pandas as pd\n",
    "# from sklearn.preprocessing import StandardScaler\n",
    "\n",
    "# # Sample DataFrame\n",
    "# data = {\n",
    "#     'feature1': [1, 2, 3, 4, 5],\n",
    "#     'feature2': [10, 20, 30, 40, 50],\n",
    "#     'feature3': [100, 200, 300, 400, 500]\n",
    "# }\n",
    "# df = pd.DataFrame(data)\n",
    "\n",
    "# # Extract features\n",
    "# x = df.values\n",
    "\n",
    "# # Standardize the features\n",
    "# scaler = StandardScaler()\n",
    "# x_standardized = scaler.fit_transform(x)\n",
    "\n",
    "# print(\"Original data:\\n\", x)\n",
    "# print(\"Standardized data:\\n\", x_standardized)\n",
    "\n",
    "\n",
    "#  Q. Why Standardization is Important ?\n",
    "\n",
    "#  -> Improved Algorithm Performance:\n",
    "# Many machine learning algorithms, such as those using gradient descent (e.g., linear regression, logistic regression) or distance metrics (e.g., k-nearest neighbors, support vector machines), perform better or converge faster with standardized data.\n",
    "\n",
    "#  -> Fair Feature Contribution: \n",
    "# Standardization ensures that each feature contributes equally to the model. Without standardization, features with larger ranges can dominate the learning process, leading to biased results.\n",
    "\n",
    "#  -> Stable and Faster Convergence: \n",
    "# For optimization algorithms, such as gradient descent, standardized data ensures stable and faster convergence by providing a smoother cost function landscape."
   ]
  },
  {
   "cell_type": "markdown",
   "metadata": {},
   "source": [
    "Model training and testing"
   ]
  },
  {
   "cell_type": "code",
   "execution_count": 15,
   "metadata": {},
   "outputs": [
    {
     "name": "stdout",
     "output_type": "stream",
     "text": [
      "[3070.20186253 3057.76373462 3059.89394874 3102.69001132 3083.46844312\n",
      " 3032.5719515  3013.87957305 3019.85169202 2943.24376126 3014.05083121\n",
      " 2944.98027895 2933.61082466 2962.86701826 2940.81994157 2960.02269269\n",
      " 3047.19910305 3062.53946802 3057.28624551 3059.32741329 3017.64821988\n",
      " 2973.84848507 3034.64129759 2993.35272201 2935.88618333 2929.89360021\n",
      " 2969.09935988 3034.35812729 3042.65786012 3058.71409394 3033.70423519\n",
      " 3032.77079466 3023.95609818 2998.48177828 2998.40877962 2990.92090633\n",
      " 2865.83503898 2860.3827443  2834.10569857 2875.63751123 2893.74622333\n",
      " 2928.3035247  2878.99440589 2895.93482151 2814.19368991 2803.56209611] 0.9813245097827078 45\n"
     ]
    }
   ],
   "source": [
    "x_train , x_test , y_train , y_test = model_selection.train_test_split(x , y , test_size=0.2)\n",
    "# classifier =  LinearRegression(n_jobs=10)   #svm.SVR(kernel = \"poly\")\n",
    "\n",
    "# classifier.fit(x_train , y_train)  # fit(\"used for training the model\")\n",
    "\n",
    "# with open('linearregression.pickle' , 'wb') as f:\n",
    "#     pickle.dump(classifier , f)\n",
    "\n",
    "pickle_in = open('linearregression.pickle' , 'rb')\n",
    "classifier = pickle.load(pickle_in)\n",
    "\n",
    "accuracy = classifier.score(x_test , y_test) # score(\"used for testing accuracy\")\n",
    "\n",
    "forecast_set = classifier.predict(x_lately)\n",
    "\n",
    "print(forecast_set , accuracy , forecast_out)\n",
    "\n",
    "# print(accuracy)\n"
   ]
  },
  {
   "cell_type": "markdown",
   "metadata": {},
   "source": [
    "What is SVR ?"
   ]
  },
  {
   "cell_type": "code",
   "execution_count": 5,
   "metadata": {},
   "outputs": [],
   "source": [
    "# Key Concepts of SVR\n",
    "\n",
    "# Margin of Tolerance : SVR introduces a margin of tolerance, within which errors are ignored. The goal is to find a function that deviates from the actual data points by a value no greater than tolerance.\n",
    "\n",
    "# Support Vectors: Data points that lie within the margin boundaries and influence the position and orientation of the regression line.\n",
    "\n",
    "# Kernel Trick: SVR can use kernel functions (like linear, polynomial, or RBF) to handle non-linear relationships by mapping input features into higher-dimensional spaces."
   ]
  },
  {
   "cell_type": "code",
   "execution_count": null,
   "metadata": {},
   "outputs": [],
   "source": []
  }
 ],
 "metadata": {
  "kernelspec": {
   "display_name": "base",
   "language": "python",
   "name": "python3"
  },
  "language_info": {
   "codemirror_mode": {
    "name": "ipython",
    "version": 3
   },
   "file_extension": ".py",
   "mimetype": "text/x-python",
   "name": "python",
   "nbconvert_exporter": "python",
   "pygments_lexer": "ipython3",
   "version": "3.11.5"
  }
 },
 "nbformat": 4,
 "nbformat_minor": 2
}
