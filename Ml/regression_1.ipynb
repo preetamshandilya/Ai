{
 "cells": [
  {
   "cell_type": "markdown",
   "metadata": {},
   "source": [
    "Imports and data preparation"
   ]
  },
  {
   "cell_type": "code",
   "execution_count": 1,
   "metadata": {},
   "outputs": [
    {
     "name": "stdout",
     "output_type": "stream",
     "text": [
      "45\n"
     ]
    }
   ],
   "source": [
    "%matplotlib inline\n",
    "import pandas as pd\n",
    "import quandl , math ,datetime\n",
    "import numpy as np\n",
    "from sklearn import preprocessing , model_selection , svm\n",
    "from sklearn.model_selection import train_test_split\n",
    "from sklearn.linear_model import LinearRegression\n",
    "\n",
    "import matplotlib.pyplot as plt\n",
    "\n",
    "from matplotlib import style\n",
    "\n",
    "style.use('ggplot')\n",
    "\n",
    "\n",
    "df = pd.read_csv(\"/home/balerion/Desktop/Ai/GOOGL.csv\")\n",
    "\n",
    "# print(df.head())\n",
    "\n",
    "df = df[[\"Open\" , \"High\" , \"Low\" , \"Close\" , \"Volume\"]]\n",
    "\n",
    "# df[\"HL_PCT\"] = (df[\"High\"] - df[\"Low\"]) / df[\"Low\"] * 100\n",
    "\n",
    "df[\"HC_PCT\"] = (df[\"High\"] - df[\"Close\"]) / df[\"Close\"] * 100.0\n",
    "\n",
    "df[\"PCT_change\"] = (df[\"Close\"] - df[\"Open\"]) / df[\"Open\"] * 100.0\n",
    "\n",
    "df = df[[\"Close\" , \"HC_PCT\" , \"PCT_change\" , \"Volume\"]]\n",
    "\n",
    "# print(df.head())\n",
    "\n",
    "\n",
    "forecast_col = \"Close\"\n",
    "\n",
    "df.fillna(-99999 , inplace=True) # to get rid of nill data\n",
    "\n",
    "forecast_out = int(math.ceil(0.01*len(df))) # for every 40 odd days\n",
    "\n",
    "print(forecast_out)\n",
    "\n",
    "df[\"label\"] = df[forecast_col].shift(-forecast_out)\n",
    "\n",
    "# print(df.head())\n",
    "\n"
   ]
  },
  {
   "cell_type": "markdown",
   "metadata": {},
   "source": [
    "Prprocessing and Scaling"
   ]
  },
  {
   "cell_type": "code",
   "execution_count": 2,
   "metadata": {},
   "outputs": [
    {
     "name": "stdout",
     "output_type": "stream",
     "text": [
      "4386 4386\n"
     ]
    }
   ],
   "source": [
    "x = np.array(df.drop(columns=[\"label\"]))# x = np.array(df.drop(columns = [\"label\"])) -> contains features\n",
    "x = preprocessing.scale(x)\n",
    "x = x[:-forecast_out]\n",
    "\n",
    "x_lately = x[-forecast_out:]\n",
    "\n",
    "# standardization of data x' = x - mean / standard deviation\n",
    "# Standardized data refers to data that has been transformed to have a mean of 0 and a standard deviation of 1\n",
    "# x = x[:-forecast_out+1]\n",
    "\n",
    "df.dropna(inplace=True)\n",
    "y = np.array(df[\"label\"])\n",
    "y = np.array(df[\"label\"])\n",
    "\n",
    "print(len(x) , len(y))\n",
    "\n"
   ]
  },
  {
   "cell_type": "markdown",
   "metadata": {},
   "source": [
    "Why Scaling is important ?\n"
   ]
  },
  {
   "cell_type": "code",
   "execution_count": 3,
   "metadata": {},
   "outputs": [],
   "source": [
    "# import numpy as np\n",
    "# import pandas as pd\n",
    "# from sklearn.preprocessing import StandardScaler\n",
    "\n",
    "# # Sample DataFrame\n",
    "# data = {\n",
    "#     'feature1': [1, 2, 3, 4, 5],\n",
    "#     'feature2': [10, 20, 30, 40, 50],\n",
    "#     'feature3': [100, 200, 300, 400, 500]\n",
    "# }\n",
    "# df = pd.DataFrame(data)\n",
    "\n",
    "# # Extract features\n",
    "# x = df.values\n",
    "\n",
    "# # Standardize the features\n",
    "# scaler = StandardScaler()\n",
    "# x_standardized = scaler.fit_transform(x)\n",
    "\n",
    "# print(\"Original data:\\n\", x)\n",
    "# print(\"Standardized data:\\n\", x_standardized)\n",
    "\n",
    "\n",
    "#  Q. Why Standardization is Important ?\n",
    "\n",
    "#  -> Improved Algorithm Performance:\n",
    "# Many machine learning algorithms, such as those using gradient descent (e.g., linear regression, logistic regression) or distance metrics (e.g., k-nearest neighbors, support vector machines), perform better or converge faster with standardized data.\n",
    "\n",
    "#  -> Fair Feature Contribution: \n",
    "# Standardization ensures that each feature contributes equally to the model. Without standardization, features with larger ranges can dominate the learning process, leading to biased results.\n",
    "\n",
    "#  -> Stable and Faster Convergence: \n",
    "# For optimization algorithms, such as gradient descent, standardized data ensures stable and faster convergence by providing a smoother cost function landscape."
   ]
  },
  {
   "cell_type": "markdown",
   "metadata": {},
   "source": [
    "Model training and testing"
   ]
  },
  {
   "cell_type": "code",
   "execution_count": 4,
   "metadata": {},
   "outputs": [
    {
     "name": "stdout",
     "output_type": "stream",
     "text": [
      "[3076.76667495 3064.48927242 3067.07412836 3108.837462   3088.982293\n",
      " 3036.5597913  3020.62575554 3027.16007482 2948.33613131 3019.87405106\n",
      " 2947.78548598 2934.80608192 2968.14368041 2945.67239743 2966.64801586\n",
      " 3053.87957083 3069.934959   3062.91193457 3066.2157613  3023.23202745\n",
      " 2980.90997934 3040.44670189 2997.53453969 2940.75301046 2936.36572337\n",
      " 2975.43488267 3040.19102454 3048.26479651 3065.60166211 3039.90203507\n",
      " 3039.44628214 3030.32495436 3003.9618907  3004.96681687 2995.94956629\n",
      " 2865.87519271 2863.71596991 2839.82800475 2880.83047498 2899.49885615\n",
      " 2933.85795778 2881.02333482 2899.89799678 2819.82353426 2806.80432766] 0.9818354506150209 45\n"
     ]
    }
   ],
   "source": [
    "x_train , x_test , y_train , y_test = model_selection.train_test_split(x , y , test_size=0.2)\n",
    "classifier =  LinearRegression(n_jobs=10)   #svm.SVR(kernel = \"poly\")\n",
    "\n",
    "classifier.fit(x_train , y_train)  # fit(\"used for training the model\")\n",
    "\n",
    "accuracy = classifier.score(x_test , y_test) # score(\"used for testing accuracy\")\n",
    "\n",
    "forecast_set = classifier.predict(x_lately)\n",
    "\n",
    "print(forecast_set , accuracy , forecast_out)\n",
    "\n",
    "# print(accuracy)\n"
   ]
  },
  {
   "cell_type": "markdown",
   "metadata": {},
   "source": [
    "What is SVR ?"
   ]
  },
  {
   "cell_type": "code",
   "execution_count": 5,
   "metadata": {},
   "outputs": [],
   "source": [
    "# Key Concepts of SVR\n",
    "\n",
    "# Margin of Tolerance : SVR introduces a margin of tolerance, within which errors are ignored. The goal is to find a function that deviates from the actual data points by a value no greater than tolerance.\n",
    "\n",
    "# Support Vectors: Data points that lie within the margin boundaries and influence the position and orientation of the regression line.\n",
    "\n",
    "# Kernel Trick: SVR can use kernel functions (like linear, polynomial, or RBF) to handle non-linear relationships by mapping input features into higher-dimensional spaces."
   ]
  },
  {
   "cell_type": "code",
   "execution_count": null,
   "metadata": {},
   "outputs": [],
   "source": []
  }
 ],
 "metadata": {
  "kernelspec": {
   "display_name": "base",
   "language": "python",
   "name": "python3"
  },
  "language_info": {
   "codemirror_mode": {
    "name": "ipython",
    "version": 3
   },
   "file_extension": ".py",
   "mimetype": "text/x-python",
   "name": "python",
   "nbconvert_exporter": "python",
   "pygments_lexer": "ipython3",
   "version": "3.11.5"
  }
 },
 "nbformat": 4,
 "nbformat_minor": 2
}
