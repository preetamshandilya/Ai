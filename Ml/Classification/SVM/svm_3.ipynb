{
 "cells": [
  {
   "cell_type": "code",
   "execution_count": 19,
   "metadata": {},
   "outputs": [],
   "source": [
    "import numpy as np"
   ]
  },
  {
   "cell_type": "code",
   "execution_count": 20,
   "metadata": {},
   "outputs": [],
   "source": [
    "class SVM:    \n",
    "    def __init__(self, kernel='poly', degree=2, sigma=0.1, epoches=1000, learning_rate= 0.001):\n",
    "            self.alpha = None\n",
    "            self.b = 0\n",
    "            self.degree = degree\n",
    "            self.c = 1\n",
    "            self.C = 1\n",
    "            self.sigma = sigma\n",
    "            self.epoches = epoches\n",
    "            self.learning_rate = learning_rate\n",
    "            \n",
    "            if kernel == 'poly':\n",
    "                    self.kernel = self.polynomial_kernal # for polynomial kernal\n",
    "            elif kernel == 'rbf':\n",
    "                    self.kernel =  self.gaussian_kernal # for guassian\n",
    "                    \n",
    "    def polynomial_kernal(self , x1 , x2):\n",
    "        return (self.c + np.dot(x1,x2))**self.degree\n",
    "    \n",
    "    def gaussian_kernal(self , x1 ,x2):\n",
    "        sigma_squared = np.power(self.sigma , 2)\n",
    "        return np.exp(-(x1 - x2).T.dot(x1-x2)/(2*sigma_squared))\n",
    "    \n",
    "    def fit(self , X, y):\n",
    "        self.X = X\n",
    "        self.y = y\n",
    "        self.alpha = np.random.random(X.shape[0])\n",
    "        self.b = 0\n",
    "        self.ones = np.ones(X.shape[0]) \n",
    "        \n",
    "        y_mul_kernal = np.outer(y , y)*self.kernel(X,X)\n",
    "        \n",
    "        for _ in range(self.epoches):\n",
    "            gradient = self.ones - y_mul_kernal.dot(self.alpha)\n",
    "            \n",
    "            self.alpha += self.learning_rate*(gradient)\n",
    "            \n",
    "            # self.alpha[self.alpha > self.C] = self.C # 0<α<C\n",
    "            # self.alpha[self.alpha < 0] = 0 \n",
    "            \n",
    "            loss = np.sum(self.alpha) - 0.5 * np.sum(np.outer(self.alpha, self.alpha) * y_mul_kernal) # ∑αi – (1/2) ∑i ∑j αi αj yi yj K(xi, xj)\n",
    "            alpha_index = np.where((self.alpha) > 0 & (self.alpha < self.C))[0]\n",
    "            b_list = []        \n",
    "            for index in alpha_index:\n",
    "                b_list.append(y[index] - (self.alpha * y).dot(self.kernel(X, X[index])))\n",
    "\n",
    "            self.b = np.mean(b_list)\n",
    "            \n",
    "        \n",
    "        \n",
    "        "
   ]
  },
  {
   "cell_type": "code",
   "execution_count": null,
   "metadata": {},
   "outputs": [],
   "source": []
  }
 ],
 "metadata": {
  "language_info": {
   "name": "python"
  }
 },
 "nbformat": 4,
 "nbformat_minor": 2
}
