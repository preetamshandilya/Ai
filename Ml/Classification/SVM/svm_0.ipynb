{
 "cells": [
  {
   "cell_type": "markdown",
   "metadata": {},
   "source": [
    "# *Understading basics*"
   ]
  },
  {
   "cell_type": "code",
   "execution_count": 1,
   "metadata": {},
   "outputs": [],
   "source": [
    "import numpy as np\n",
    "import math"
   ]
  },
  {
   "cell_type": "code",
   "execution_count": 4,
   "metadata": {},
   "outputs": [
    {
     "name": "stdout",
     "output_type": "stream",
     "text": [
      "6.4031242374328485\n",
      "6.4031242374328485\n"
     ]
    }
   ],
   "source": [
    "print(np.linalg.norm((4,5))) # magnitude of a vector\n",
    "print(np.sqrt((16+25)))"
   ]
  },
  {
   "cell_type": "code",
   "execution_count": 10,
   "metadata": {},
   "outputs": [
    {
     "name": "stdout",
     "output_type": "stream",
     "text": [
      "[0.62469505 0.78086881]\n",
      "[0.62469505 0.78086881]\n",
      "1.0000000019626591\n"
     ]
    }
   ],
   "source": [
    "#unit vector\n",
    "def unit_vec(vec):\n",
    "    return vec / np.linalg.norm(vec)\n",
    "\n",
    "print(unit_vec((4,5)))\n",
    "print(unit_vec((40,50)))\n",
    "\n",
    "#magnitude of unit vector\n",
    "\n",
    "print(np.linalg.norm((0.62469505, 0.78086881)))\n"
   ]
  },
  {
   "cell_type": "code",
   "execution_count": 11,
   "metadata": {},
   "outputs": [
    {
     "data": {
      "text/plain": [
       "20.0"
      ]
     },
     "execution_count": 11,
     "metadata": {},
     "output_type": "execute_result"
    }
   ],
   "source": [
    "# calculating dot product\n",
    "def dot_prod(x,y,theta):\n",
    "    x_norm = np.linalg.norm(x)\n",
    "    y_norm = np.linalg.norm(y)\n",
    "    return x_norm*y_norm*np.cos(np.radians(theta))\n",
    "\n",
    "dot_prod(4,5,0)\n"
   ]
  },
  {
   "cell_type": "code",
   "execution_count": 12,
   "metadata": {},
   "outputs": [],
   "source": [
    "def example_functional_margin(w, b, x, y):\n",
    "    result = y * (np.dot(w, x) + b)\n",
    "    return result "
   ]
  },
  {
   "cell_type": "markdown",
   "metadata": {},
   "source": [
    "there is a major problem with the functional margin: is not scale invariant."
   ]
  },
  {
   "cell_type": "code",
   "execution_count": 13,
   "metadata": {},
   "outputs": [
    {
     "name": "stdout",
     "output_type": "stream",
     "text": [
      "8\n",
      "80\n"
     ]
    }
   ],
   "source": [
    "x = np.array([1, 1]) \n",
    "y = 1 \n",
    " \n",
    "b_1 = 5 \n",
    "w_1 = np.array([2, 1]) \n",
    " \n",
    "w_2 = w_1 * 10 \n",
    "b_2 = b_1 * 10 \n",
    " \n",
    "print(example_functional_margin(w_1, b_1, x, y))  # 8 \n",
    "print(example_functional_margin(w_2, b_2, x, y))  # 80 "
   ]
  },
  {
   "cell_type": "code",
   "execution_count": 14,
   "metadata": {},
   "outputs": [],
   "source": [
    "# Compute the geometric margin of an example (x,y) \n",
    "# with respect to a hyperplane defined by w and b. \n",
    "def example_geometric_margin(w, b, x, y):\n",
    "    norm = np.linalg.norm(w)\n",
    "    result = y * (np.dot(w/norm, x) + b/norm)\n",
    "    return result "
   ]
  },
  {
   "cell_type": "code",
   "execution_count": 15,
   "metadata": {},
   "outputs": [
    {
     "name": "stdout",
     "output_type": "stream",
     "text": [
      "3.577708763999664\n",
      "3.577708763999664\n"
     ]
    }
   ],
   "source": [
    "x = np.array([1, 1]) \n",
    "y = 1 \n",
    " \n",
    "b_1 = 5 \n",
    "w_1 = np.array([2, 1]) \n",
    " \n",
    "w_2 = w_1 * 10 \n",
    "b_2 = b_1 * 10 \n",
    " \n",
    "print(example_geometric_margin(w_1, b_1, x, y)) \n",
    "print(example_geometric_margin(w_2, b_2, x, y))  "
   ]
  },
  {
   "cell_type": "markdown",
   "metadata": {},
   "source": [
    "### *Functional margin*\n",
    "\n",
    "*The functional margin measures how well an example is classified and how confident the classifier is about the classification*\n",
    "\n",
    "*It is used during the training process to ensure that the margin between the support vectors (data points that are closest to the decision boundary) and the decision boundary is maximized. In mathematical formulations, the functional margin is directly involved in the constraints of the optimization problem*\n",
    "\n",
    "\n",
    "### *Geometric margin*\n",
    "\n",
    "*The geometric margin provides a scale-invariant measure of how far an example is from the decision boundary. It represents the true margin of separation between the classes.*\n",
    "\n",
    "*The goal of the SVM optimization process is to maximize the geometric margin. This is because the geometric margin is invariant to the scaling of w, making it a more meaningful measure of the classifier's robustness.*"
   ]
  },
  {
   "cell_type": "code",
   "execution_count": 8,
   "metadata": {},
   "outputs": [
    {
     "name": "stdout",
     "output_type": "stream",
     "text": [
      "[1 2 3 4]\n",
      "[-1.  0.  1.  2.]\n",
      "[[-1.  0.  1.  2.]\n",
      " [-2.  0.  2.  4.]\n",
      " [-3.  0.  3.  6.]\n",
      " [-4.  0.  4.  8.]]\n"
     ]
    }
   ],
   "source": [
    "import numpy as np\n",
    "a = np.array([1,2,3,4])\n",
    "print(a)\n",
    "\n",
    "b = np.linspace(-1, 2, 4)\n",
    "print(b)\n",
    "\n",
    "x = np.outer(a,b)\n",
    "\n",
    "print(x)\n"
   ]
  }
 ],
 "metadata": {
  "kernelspec": {
   "display_name": "base",
   "language": "python",
   "name": "python3"
  },
  "language_info": {
   "codemirror_mode": {
    "name": "ipython",
    "version": 3
   },
   "file_extension": ".py",
   "mimetype": "text/x-python",
   "name": "python",
   "nbconvert_exporter": "python",
   "pygments_lexer": "ipython3",
   "version": "3.11.5"
  }
 },
 "nbformat": 4,
 "nbformat_minor": 2
}
