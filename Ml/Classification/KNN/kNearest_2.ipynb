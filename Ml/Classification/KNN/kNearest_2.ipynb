{
 "cells": [
  {
   "cell_type": "markdown",
   "metadata": {},
   "source": [
    "# KNN - logic\n"
   ]
  },
  {
   "cell_type": "markdown",
   "metadata": {},
   "source": [
    "Imports"
   ]
  },
  {
   "cell_type": "code",
   "execution_count": 22,
   "metadata": {},
   "outputs": [],
   "source": [
    "import numpy as np\n",
    "import pandas as pd\n",
    "import warnings\n",
    "%matplotlib inline\n",
    "import matplotlib.pyplot as plt\n",
    "from math import sqrt\n",
    "from matplotlib import style\n",
    "from collections import Counter\n",
    "# style.available\n",
    "style.use('fivethirtyeight')\n",
    "\n"
   ]
  },
  {
   "cell_type": "markdown",
   "metadata": {},
   "source": [
    "### calculating euclidean distance"
   ]
  },
  {
   "cell_type": "code",
   "execution_count": 19,
   "metadata": {},
   "outputs": [],
   "source": [
    "# plot1 = [1,3]\n",
    "# plot2 = [2,5]\n",
    "\n",
    "# euclidean_dist = sqrt((plot1[0]-plot2[0])**2 + (plot1[1]-plot2[1])**2)\n",
    "# print(euclidean_dist) # output : 2.23606797749979"
   ]
  },
  {
   "cell_type": "code",
   "execution_count": 36,
   "metadata": {},
   "outputs": [
    {
     "data": {
      "image/png": "[encoded data removed]",
      "text/plain": [
       "<Figure size 640x480 with 1 Axes>"
      ]
     },
     "metadata": {},
     "output_type": "display_data"
    }
   ],
   "source": [
    "dataset = {'k':[[1,2],[2,3],[3,1]] , 'r':[[6,5],[7,7],[8,6]]}\n",
    "new_data = [5,7]\n",
    "\n",
    "# print(len(dataset))\n",
    "\n",
    "# for i in dataset:\n",
    "#     for j in dataset[i]:\n",
    "#         plt.scatter(j[0] , j[1] , s=100 , color=i)\n",
    "\n",
    "[[plt.scatter(j[0] , j[1] , s=100 , color=i) for j in dataset[i]] for i in dataset]\n",
    "plt.scatter(new_data[0]  ,new_data[1] , s = 50)\n",
    "plt.show()"
   ]
  },
  {
   "cell_type": "markdown",
   "metadata": {},
   "source": [
    "### K-nearest fn"
   ]
  },
  {
   "cell_type": "code",
   "execution_count": 47,
   "metadata": {},
   "outputs": [
    {
     "name": "stdout",
     "output_type": "stream",
     "text": [
      "[('r', 3)]\n",
      "r\n"
     ]
    }
   ],
   "source": [
    "def k_nearest_neighbors(data , predict , k=3): # usually k = 5 as default value in scikit \n",
    "    if len(data) >= k:\n",
    "        warnings.warn(\"K is set to value less than total voting group!\")\n",
    "        \n",
    "    distances = []\n",
    "    for group in data:\n",
    "        for features in data[group]:\n",
    "            # euclidean_dist = np.sqrt(np.sum((np.array(features) - np.array(predict))**2))\n",
    "            euclidean_dist = np.linalg.norm(np.array(features) - np.array(predict))\n",
    "            distances.append([euclidean_dist , group])\n",
    "            \n",
    "    votes = [i[1] for i in sorted(distances)[:k]]\n",
    "    print(Counter(votes).most_common(1))\n",
    "    vote_res = Counter(votes).most_common(1)[0][0]\n",
    "    return vote_res\n",
    "\n",
    "res = k_nearest_neighbors(dataset , new_data , k=3)\n",
    "print(res)    "
   ]
  },
  {
   "cell_type": "code",
   "execution_count": null,
   "metadata": {},
   "outputs": [],
   "source": []
  }
 ],
 "metadata": {
  "kernelspec": {
   "display_name": "base",
   "language": "python",
   "name": "python3"
  },
  "language_info": {
   "codemirror_mode": {
    "name": "ipython",
    "version": 3
   },
   "file_extension": ".py",
   "mimetype": "text/x-python",
   "name": "python",
   "nbconvert_exporter": "python",
   "pygments_lexer": "ipython3",
   "version": "3.11.5"
  }
 },
 "nbformat": 4,
 "nbformat_minor": 2
}
