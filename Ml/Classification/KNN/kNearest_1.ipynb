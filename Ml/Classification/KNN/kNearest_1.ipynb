{
 "cells": [
  {
   "cell_type": "markdown",
   "metadata": {},
   "source": [
    "# k-Nearest-Neighbors\n",
    "(works better with smaller dataset)"
   ]
  },
  {
   "cell_type": "markdown",
   "metadata": {},
   "source": [
    "### Breast cancer detection"
   ]
  },
  {
   "cell_type": "code",
   "execution_count": 1,
   "metadata": {},
   "outputs": [],
   "source": [
    "import numpy as np\n",
    "%matplotlib inline\n",
    "import matplotlib.pyplot as plt\n",
    "from sklearn import preprocessing , model_selection, neighbors\n",
    "import pandas as pd\n",
    "import pickle"
   ]
  },
  {
   "cell_type": "code",
   "execution_count": 3,
   "metadata": {},
   "outputs": [],
   "source": [
    "df = pd.read_csv('/home/balerion/Desktop/leetcode_Ai/Ai/dataset/breast+cancer+wisconsin+original/breast-cancer-wisconsin.data')\n",
    "\n",
    "df.replace('?'  ,-99999 , inplace=True) # handling the absent data\n",
    "df.drop('id',axis=1,inplace=True)\n",
    "# print(df.head())"
   ]
  },
  {
   "cell_type": "code",
   "execution_count": 4,
   "metadata": {},
   "outputs": [],
   "source": [
    "X = np.array(df.drop(['class'],axis = 1))\n",
    "# print(X.shape[0])\n",
    "\n",
    "Y = np.array(df['class'])\n",
    "# print(Y.size)"
   ]
  },
  {
   "cell_type": "code",
   "execution_count": 5,
   "metadata": {},
   "outputs": [
    {
     "name": "stdout",
     "output_type": "stream",
     "text": [
      "98.57142857142858\n"
     ]
    }
   ],
   "source": [
    "x_train , x_test , y_train , y_test = model_selection.train_test_split(X,Y , test_size=0.2)\n",
    "\n",
    "# clf = neighbors.KNeighborsClassifier()\n",
    "\n",
    "# print(clf.get_params()['n_neighbors']) # output : 5 (value of k)\n",
    "\n",
    "# clf.fit(x_train,y_train)# training our model\n",
    "\n",
    "# with open('knn.pickle' ,'wb') as f:\n",
    "#     pickle.dump(clf,f)\n",
    "    \n",
    "pickle_in = open('knn.pickle' ,'rb')\n",
    "\n",
    "clf = pickle.load(pickle_in)\n",
    "    \n",
    "accuracy = clf.score(x_test , y_test) # check the accuracy\n",
    "\n",
    "print(float(accuracy*100))\n"
   ]
  },
  {
   "cell_type": "markdown",
   "metadata": {},
   "source": [
    "### Prediction-test"
   ]
  },
  {
   "cell_type": "markdown",
   "metadata": {},
   "source": [
    "* ***examples_measures = np.array([4,2,1,1,1,2,3,2,1]).reshape(1, -1)***\n",
    "\n",
    "The error we will encounter if we do not reshape our test_data is that the model expects the input data to be a 2D array, but you have provided a 1D array. This is common in many machine learning models, as they typically expect a 2D array where each row represents a sample and each column represents a feature.\n",
    "\n",
    "* *To fix it :*\n",
    "\n",
    "If our array represents a single sample with multiple features, we should reshape it to have one row. If it represents multiple samples with a single feature each, you should reshape it to have one column."
   ]
  },
  {
   "cell_type": "code",
   "execution_count": 11,
   "metadata": {},
   "outputs": [
    {
     "name": "stdout",
     "output_type": "stream",
     "text": [
      "[4 2]\n"
     ]
    }
   ],
   "source": [
    "# examples_measures = np.array([4,2,1,1,1,2,3,2,1])\n",
    "# examples_measures = examples_measures.reshape(1,-1)\n",
    "examples_measures = np.array([[7,3,2,10,5,10,5,4,4],[4,1,1,1,2,1,2,1,1]])\n",
    "examples_measures = examples_measures.reshape(len(examples_measures),-1)\n",
    "prediction = clf.predict(examples_measures)\n",
    "print(prediction)\n"
   ]
  },
  {
   "cell_type": "code",
   "execution_count": null,
   "metadata": {},
   "outputs": [],
   "source": []
  }
 ],
 "metadata": {
  "kernelspec": {
   "display_name": "base",
   "language": "python",
   "name": "python3"
  },
  "language_info": {
   "codemirror_mode": {
    "name": "ipython",
    "version": 3
   },
   "file_extension": ".py",
   "mimetype": "text/x-python",
   "name": "python",
   "nbconvert_exporter": "python",
   "pygments_lexer": "ipython3",
   "version": "3.11.5"
  }
 },
 "nbformat": 4,
 "nbformat_minor": 2
}
