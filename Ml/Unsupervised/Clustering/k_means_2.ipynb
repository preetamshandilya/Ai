{
 "cells": [
  {
   "cell_type": "markdown",
   "metadata": {},
   "source": [
    "# *K*-mean (Using Titanic dataset)\n",
    "\n",
    "*handling non-numeric dataset*"
   ]
  },
  {
   "cell_type": "code",
   "execution_count": 1,
   "metadata": {},
   "outputs": [],
   "source": [
    "import numpy as np\n",
    "import pandas as pd\n",
    "from sklearn import model_selection , preprocessing , cluster\n",
    "from sklearn.cluster import KMeans\n",
    "%matplotlib inline \n",
    "from matplotlib import style\n",
    "style.use('ggplot')\n",
    "import matplotlib.pyplot as plt"
   ]
  },
  {
   "cell_type": "code",
   "execution_count": 24,
   "metadata": {},
   "outputs": [
    {
     "name": "stdout",
     "output_type": "stream",
     "text": [
      "['pclass' 'survived' 'sex' 'age' 'sibsp' 'parch' 'ticket' 'fare' 'cabin'\n",
      " 'embarked' 'boat' 'home.dest']\n"
     ]
    }
   ],
   "source": [
    "df = pd.read_excel('/home/balerion/Desktop/leetcode_Ai/Ai/dataset/titanic/titanic3.xls')\n",
    "# print(df.columns)\n",
    "df.drop(columns=['name' , 'body']  ,axis=1 , inplace=True)\n",
    "# print(df.head())\n",
    "print(df.columns.values)\n",
    "# X = np.array(df.drop(columns=['Survived']))\n",
    "# y = np.array(df['Survived'])\n",
    "df.convert_dtypes(convert_integer=True)\n",
    "df.fillna(0 , inplace=True)\n"
   ]
  },
  {
   "cell_type": "code",
   "execution_count": null,
   "metadata": {},
   "outputs": [],
   "source": [
    "def handle_non_numeric_value():\n",
    "    columns = df.columns.values\n",
    "    \n",
    "    for col in columns:\n",
    "        text_digit_val = {}\n",
    "        def convert_to_int(val):\n",
    "            return text_digit_val[val]\n",
    "        \n",
    "        if df[col].dtype != np.int64 and df[col].dtype != np.float64:\n",
    "            column_contents = df[col].values.tolist()\n",
    "            unique_val = set(column_contents)\n",
    "            x = 0\n",
    "            for unq in unique_val:\n",
    "                if unq not in text_digit_val:\n",
    "                    text_digit_val[unq] = x\n",
    "                    x+=1\n",
    "                    \n",
    "            \n",
    "            \n",
    "    "
   ]
  }
 ],
 "metadata": {
  "kernelspec": {
   "display_name": "base",
   "language": "python",
   "name": "python3"
  },
  "language_info": {
   "codemirror_mode": {
    "name": "ipython",
    "version": 3
   },
   "file_extension": ".py",
   "mimetype": "text/x-python",
   "name": "python",
   "nbconvert_exporter": "python",
   "pygments_lexer": "ipython3",
   "version": "3.11.5"
  }
 },
 "nbformat": 4,
 "nbformat_minor": 2
}
